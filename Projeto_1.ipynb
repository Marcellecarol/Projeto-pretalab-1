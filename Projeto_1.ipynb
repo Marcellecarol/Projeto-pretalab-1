{
  "nbformat": 4,
  "nbformat_minor": 0,
  "metadata": {
    "colab": {
      "provenance": [],
      "mount_file_id": "1sbRS3Ug-78758Q7DSLD9piOGxMd6ZV68",
      "authorship_tag": "ABX9TyNIOMuKNDStiWrGE6uBv5r1",
      "include_colab_link": true
    },
    "kernelspec": {
      "name": "python3",
      "display_name": "Python 3"
    },
    "language_info": {
      "name": "python"
    }
  },
  "cells": [
    {
      "cell_type": "markdown",
      "metadata": {
        "id": "view-in-github",
        "colab_type": "text"
      },
      "source": [
        "<a href=\"https://colab.research.google.com/github/Marcellecarol/Projeto-pretalab-1/blob/main/Projeto_1.ipynb\" target=\"_parent\"><img src=\"https://colab.research.google.com/assets/colab-badge.svg\" alt=\"Open In Colab\"/></a>"
      ]
    },
    {
      "cell_type": "code",
      "source": [
        "!pip install pandas"
      ],
      "metadata": {
        "colab": {
          "base_uri": "https://localhost:8080/"
        },
        "id": "s50iQXAebaoZ",
        "outputId": "292407e2-2c49-4aeb-cc03-4c3b9aca6972",
        "collapsed": true
      },
      "execution_count": null,
      "outputs": [
        {
          "output_type": "stream",
          "name": "stdout",
          "text": [
            "Requirement already satisfied: pandas in /usr/local/lib/python3.10/dist-packages (2.1.4)\n",
            "Requirement already satisfied: numpy<2,>=1.22.4 in /usr/local/lib/python3.10/dist-packages (from pandas) (1.26.4)\n",
            "Requirement already satisfied: python-dateutil>=2.8.2 in /usr/local/lib/python3.10/dist-packages (from pandas) (2.8.2)\n",
            "Requirement already satisfied: pytz>=2020.1 in /usr/local/lib/python3.10/dist-packages (from pandas) (2024.2)\n",
            "Requirement already satisfied: tzdata>=2022.1 in /usr/local/lib/python3.10/dist-packages (from pandas) (2024.1)\n",
            "Requirement already satisfied: six>=1.5 in /usr/local/lib/python3.10/dist-packages (from python-dateutil>=2.8.2->pandas) (1.16.0)\n"
          ]
        }
      ]
    },
    {
      "cell_type": "code",
      "execution_count": null,
      "metadata": {
        "id": "GQ18Kd5F3uKe",
        "colab": {
          "base_uri": "https://localhost:8080/"
        },
        "outputId": "bf28a3cd-bc10-443b-c3bd-ed553dd9300d",
        "collapsed": true
      },
      "outputs": [
        {
          "output_type": "stream",
          "name": "stdout",
          "text": [
            "Requirement already satisfied: matplotlib-venn in /usr/local/lib/python3.10/dist-packages (0.11.10)\n",
            "Requirement already satisfied: matplotlib in /usr/local/lib/python3.10/dist-packages (from matplotlib-venn) (3.7.1)\n",
            "Requirement already satisfied: numpy in /usr/local/lib/python3.10/dist-packages (from matplotlib-venn) (1.26.4)\n",
            "Requirement already satisfied: scipy in /usr/local/lib/python3.10/dist-packages (from matplotlib-venn) (1.13.1)\n",
            "Requirement already satisfied: contourpy>=1.0.1 in /usr/local/lib/python3.10/dist-packages (from matplotlib->matplotlib-venn) (1.3.0)\n",
            "Requirement already satisfied: cycler>=0.10 in /usr/local/lib/python3.10/dist-packages (from matplotlib->matplotlib-venn) (0.12.1)\n",
            "Requirement already satisfied: fonttools>=4.22.0 in /usr/local/lib/python3.10/dist-packages (from matplotlib->matplotlib-venn) (4.53.1)\n",
            "Requirement already satisfied: kiwisolver>=1.0.1 in /usr/local/lib/python3.10/dist-packages (from matplotlib->matplotlib-venn) (1.4.7)\n",
            "Requirement already satisfied: packaging>=20.0 in /usr/local/lib/python3.10/dist-packages (from matplotlib->matplotlib-venn) (24.1)\n",
            "Requirement already satisfied: pillow>=6.2.0 in /usr/local/lib/python3.10/dist-packages (from matplotlib->matplotlib-venn) (9.4.0)\n",
            "Requirement already satisfied: pyparsing>=2.3.1 in /usr/local/lib/python3.10/dist-packages (from matplotlib->matplotlib-venn) (3.1.4)\n",
            "Requirement already satisfied: python-dateutil>=2.7 in /usr/local/lib/python3.10/dist-packages (from matplotlib->matplotlib-venn) (2.8.2)\n",
            "Requirement already satisfied: six>=1.5 in /usr/local/lib/python3.10/dist-packages (from python-dateutil>=2.7->matplotlib->matplotlib-venn) (1.16.0)\n"
          ]
        }
      ],
      "source": [
        "!pip install matplotlib-venn"
      ]
    },
    {
      "cell_type": "code",
      "source": [
        "!apt-get -qq install -y libfluidsynth1"
      ],
      "metadata": {
        "colab": {
          "base_uri": "https://localhost:8080/"
        },
        "id": "V1v7zRbzbzxG",
        "outputId": "7bb067cc-da08-4b9f-90fc-13feff9795ac",
        "collapsed": true
      },
      "execution_count": null,
      "outputs": [
        {
          "output_type": "stream",
          "name": "stdout",
          "text": [
            "E: Package 'libfluidsynth1' has no installation candidate\n"
          ]
        }
      ]
    },
    {
      "cell_type": "markdown",
      "source": [
        "ALUNA: MARCELLE CAROLINA CAETANO COELHO"
      ],
      "metadata": {
        "id": "pXKgb5Ah8TdQ"
      }
    },
    {
      "cell_type": "markdown",
      "source": [],
      "metadata": {
        "id": "zdhOX42yQdA8"
      }
    },
    {
      "cell_type": "markdown",
      "source": [
        "Diversidade no Trabalho e Tecnologia\n",
        "\n",
        "\n",
        "Neste exercício, o grupo vai criar um conjunto de módulos e pacotes Python que simula a coleta e o processamento de dados sobre a diversidade em empresas de tecnologia. O objetivo é trabalhar com a criação de pacotes e módulos, e praticar a leitura e escrita de arquivos de texto (CSV, txt, etc.) em Python.\n",
        "\n",
        "Vão usar o que aprenderam e também usar as habilidades que vocês já tem para fazer esse trabalho. Façam grupo de pelo menos 4 pessoas e cada pessoa vai ficar responsável por algumas tarefas: Tarefa: Utilizar o GitHub para colaborar no desenvolvimento do pacote. Cada aluna pode criar uma branch, implementar suas funções e enviar pull requests para revisão. Exemplo: Criar um repositório colaborativo onde cada aluna pode contribuir com uma parte do pacote e utilizar o controle de versão para acompanhar as mudanças.\n",
        "\n",
        "Módulo 1: Coleta de Dados\n",
        "\n",
        "Tarefa: Criar um módulo chamado coleta_dados.py que contenha funções para ler arquivos CSV que simulam a coleta de dados sobre diversidade nas empresas. Cada aluna será responsável por trabalhar com um arquivo que contenha dados de diferentes empresa.\n",
        "\n",
        "Exemplo de código:\n",
        "Exemplo de código:"
      ],
      "metadata": {
        "id": "5BWBPUn-ANCl"
      }
    },
    {
      "cell_type": "code",
      "source": [
        "##import csv\n",
        "\n",
        "##def ler_dados_diversidade(arquivo_csv):\n",
        "##with open(arquivo_csv, mode='r') as file:\n",
        "##reader = csv.reader(file)\n",
        "##dados = [row for row in reader]\n",
        "##return dados"
      ],
      "metadata": {
        "colab": {
          "base_uri": "https://localhost:8080/",
          "height": 106
        },
        "collapsed": true,
        "outputId": "4e13d6f1-fffe-4f09-88ec-01c85d833db5",
        "id": "o6Hhtfpt6W61"
      },
      "execution_count": null,
      "outputs": [
        {
          "output_type": "error",
          "ename": "IndentationError",
          "evalue": "expected an indented block after function definition on line 3 (<ipython-input-4-8359c36944e6>, line 4)",
          "traceback": [
            "\u001b[0;36m  File \u001b[0;32m\"<ipython-input-4-8359c36944e6>\"\u001b[0;36m, line \u001b[0;32m4\u001b[0m\n\u001b[0;31m    with open(arquivo_csv, mode='r') as file:\u001b[0m\n\u001b[0m    ^\u001b[0m\n\u001b[0;31mIndentationError\u001b[0m\u001b[0;31m:\u001b[0m expected an indented block after function definition on line 3\n"
          ]
        }
      ]
    },
    {
      "cell_type": "code",
      "source": [
        "\n",
        "with open('dados_diversidade.csv', 'w') as f:\n",
        "    f.write('ID,Nome,Genero,Raca,Idade,Deficiencia\\n')\n",
        "    f.write('1,Maria Silva,Feminino,Negra,29,Não\\n')\n",
        "    f.write('2,João Souza,Masculino,Branco,35,Sim\\n')\n",
        "    f.write('3,Ana Costa,Feminino,Parda,41,Não\\n')\n",
        "    f.write('4,Carlos Pereira,Masculino,Indígena,25,Não\\n')\n",
        "    f.write('5,Renata Lima,Feminino,Amarela,30,Sim\\n')\n",
        "    f.write('6,Paulo Oliveira,Masculino,Negro,45,Não\\n')\n",
        "    f.write('7,Carla Nascimento,Feminino,Branca,32,Sim\\n')\n",
        "    f.write('8,Fernando Santos,Masculino,Pardo,50,Não\\n')\n",
        "    f.write('9,Sandra Ferreira,Feminino,Indígena,27,Sim\\n')\n",
        "    f.write('10,Roberto Mendes,Masculino,Branco,38,Não\\n')\n",
        "\n",
        "print(\"Arquivo CSV criado com sucesso!\")"
      ],
      "metadata": {
        "colab": {
          "base_uri": "https://localhost:8080/"
        },
        "id": "RMPgVHApeMiE",
        "outputId": "4e61b891-2434-44cf-987b-b8c26a4a647e"
      },
      "execution_count": 5,
      "outputs": [
        {
          "output_type": "stream",
          "name": "stdout",
          "text": [
            "Arquivo CSV criado com sucesso!\n"
          ]
        }
      ]
    },
    {
      "cell_type": "code",
      "source": [
        "import csv\n",
        "\n",
        "def ler_dados_diversidade(arquivo_csv):\n",
        "\n",
        "    dados = []\n",
        "    try:\n",
        "        with open(arquivo_csv, mode='r', newline='', encoding='utf-8') as file:\n",
        "            reader = csv.reader(file)\n",
        "            for row in reader:\n",
        "                dados.append(row)\n",
        "        return dados\n",
        "    except FileNotFoundError:\n",
        "        print(f\"Erro: O arquivo {arquivo_csv} não foi encontrado.\")\n",
        "    except csv.Error as e:\n",
        "        print(f\"Erro ao ler o arquivo CSV: {e}\")\n",
        "    return []\n",
        "\n",
        "def verificar_dados(dados):\n",
        "\n",
        "    if dados:\n",
        "        print(f\"Total de linhas carregadas: {len(dados)}\")\n",
        "        if len(dados) > 0:\n",
        "            print(\"Cabeçalhos:\", dados[0])\n",
        "            print(\"Primeiras 5 linhas de dados:\")\n",
        "            for linha in dados[1:6]:\n",
        "                print(linha)\n",
        "    else:\n",
        "        print(\"Nenhum dado carregado.\")\n",
        "\n",
        "def ler_dados_de_varios_arquivos(arquivos_csv):\n",
        "\n",
        "    dados_arquivos = {}\n",
        "    for arquivo in arquivos_csv:\n",
        "        dados = ler_dados_diversidade(arquivo)\n",
        "        dados_arquivos[arquivo] = dados\n",
        "    return dados_arquivos\n",
        "\n",
        "\n",
        "if __name__ == \"__main__\":\n",
        "    arquivos = ['dados_diversidade.csv']\n",
        "    dados = ler_dados_de_varios_arquivos(arquivos)\n",
        "    for arquivo, conteudo in dados.items():\n",
        "        print(f\"\\nDados do arquivo {arquivo}:\")\n",
        "        verificar_dados(conteudo)\n"
      ],
      "metadata": {
        "colab": {
          "base_uri": "https://localhost:8080/"
        },
        "id": "OxLpmb4eBGmN",
        "outputId": "4d31da57-afbc-43bd-dc6d-6dfa8bf1d908"
      },
      "execution_count": 6,
      "outputs": [
        {
          "output_type": "stream",
          "name": "stdout",
          "text": [
            "\n",
            "Dados do arquivo dados_diversidade.csv:\n",
            "Total de linhas carregadas: 11\n",
            "Cabeçalhos: ['ID', 'Nome', 'Genero', 'Raca', 'Idade', 'Deficiencia']\n",
            "Primeiras 5 linhas de dados:\n",
            "['1', 'Maria Silva', 'Feminino', 'Negra', '29', 'Não']\n",
            "['2', 'João Souza', 'Masculino', 'Branco', '35', 'Sim']\n",
            "['3', 'Ana Costa', 'Feminino', 'Parda', '41', 'Não']\n",
            "['4', 'Carlos Pereira', 'Masculino', 'Indígena', '25', 'Não']\n",
            "['5', 'Renata Lima', 'Feminino', 'Amarela', '30', 'Sim']\n"
          ]
        }
      ]
    },
    {
      "cell_type": "markdown",
      "source": [
        "\n",
        "# Passo 2\n",
        "\n"
      ],
      "metadata": {
        "id": "gkqjocsRCjvg"
      }
    },
    {
      "cell_type": "markdown",
      "source": [
        "Módulo 2 - Processamento de Dados\n",
        "Tarefa: Desenvolver um módulo chamado processamento_dados.py, onde serão processadas as informações lidas no primeiro módulo. Funções para calcular proporções, médias e categorizações dos dados (ex.: porcentagem de mulheres na equipe, diversidade racial).\n",
        "\n",
        "Exemplo de código:"
      ],
      "metadata": {
        "id": "X4zyep7NCL7Z"
      }
    },
    {
      "cell_type": "code",
      "source": [
        "def calcular_porcentagem_genero(dados):\n",
        " total = len(dados)\n",
        "mulheres = sum(1 for linha in dados if linha[1] =='Feminino')\n",
        "return (mulheres / total) * 100"
      ],
      "metadata": {
        "id": "xx_-n9wACZGH"
      },
      "execution_count": null,
      "outputs": []
    },
    {
      "cell_type": "code",
      "source": [
        "def calcular_porcentagem_deficiencia(dados):\n",
        "\n",
        "    total = len(dados) - 1\n",
        "    com_deficiencia = sum(1 for linha in dados[1:] if linha[5] == 'Sim')\n",
        "    return (com_deficiencia / total) * 100 if total > 0 else 0\n",
        "\n",
        "def calcular_diversidade_racial(dados):\n",
        "\n",
        "    total = len(dados) - 1\n",
        "    racas = {}\n",
        "    for linha in dados[1:]:\n",
        "        raca = linha[3]\n",
        "        if raca in racas:\n",
        "            racas[raca] += 1\n",
        "        else:\n",
        "            racas[raca] = 1\n",
        "\n",
        "    porcentagens = {raca: (contagem / total) * 100 for raca, contagem in racas.items()}\n",
        "    return porcentagens\n",
        "\n",
        "def calcular_media_idade(dados):\n",
        "\n",
        "    idades = [int(linha[4]) for linha in dados[1:] if linha[4].isdigit()]\n",
        "    total_idades = sum(idades)\n",
        "    return total_idades / len(idades) if idades else 0\n",
        "\n",
        "\n",
        "if __name__ == \"__main__\":\n",
        "\n",
        "    dados = [\n",
        "        ['ID', 'Nome', 'Genero', 'Raca', 'Idade', 'Deficiencia'],\n",
        "        ['1', 'Maria Silva', 'Feminino', 'Negra', '29', 'Não'],\n",
        "        ['2', 'João Souza', 'Masculino', 'Branco', '35', 'Sim'],\n",
        "        ['3', 'Ana Costa', 'Feminino', 'Parda', '41', 'Não'],\n",
        "        ['4', 'Carlos Pereira', 'Masculino', 'Indígena', '25', 'Não'],\n",
        "        ['5', 'Renata Lima', 'Feminino', 'Amarela', '30', 'Sim'],\n",
        "        ['6', 'Paulo Oliveira', 'Masculino', 'Negro', '45', 'Não'],\n",
        "        ['7', 'Carla Nascimento', 'Feminino', 'Branca', '32', 'Sim'],\n",
        "        ['8', 'Fernando Santos', 'Masculino', 'Pardo', '50', 'Não'],\n",
        "        ['9', 'Sandra Ferreira', 'Feminino', 'Indígena', '27', 'Sim'],\n",
        "        ['10', 'Roberto Mendes', 'Masculino', 'Branco', '38', 'Não']\n",
        "    ]\n",
        "\n",
        "    print(f\"Porcentagem de mulheres: {calcular_porcentagem_genero(dados):.2f}%\")\n",
        "    print(f\"Porcentagem de pessoas com deficiência: {calcular_porcentagem_deficiencia(dados):.2f}%\")\n",
        "    print(\"Diversidade racial:\")\n",
        "    for raca, percentual in calcular_diversidade_racial(dados).items():\n",
        "        print(f\"  {raca}: {percentual:.2f}%\")\n",
        "    print(f\"Média de idade: {calcular_media_idade(dados):.2f}\")\n"
      ],
      "metadata": {
        "colab": {
          "base_uri": "https://localhost:8080/"
        },
        "id": "XTfFpfO9CYhT",
        "outputId": "97fbcb8f-cbb6-4360-8f6b-e3fef3d247ea"
      },
      "execution_count": 7,
      "outputs": [
        {
          "output_type": "stream",
          "name": "stdout",
          "text": [
            "Porcentagem de mulheres: 50.00%\n",
            "Porcentagem de pessoas com deficiência: 40.00%\n",
            "Diversidade racial:\n",
            "  Negra: 10.00%\n",
            "  Branco: 20.00%\n",
            "  Parda: 10.00%\n",
            "  Indígena: 20.00%\n",
            "  Amarela: 10.00%\n",
            "  Negro: 10.00%\n",
            "  Branca: 10.00%\n",
            "  Pardo: 10.00%\n",
            "Média de idade: 35.20\n"
          ]
        }
      ]
    },
    {
      "cell_type": "markdown",
      "source": [
        "# Módulo 3: Manuseio e Escrita de Arquivo\n",
        "\n",
        "\n"
      ],
      "metadata": {
        "id": "V6-BlG6OF3Fq"
      }
    },
    {
      "cell_type": "markdown",
      "source": [
        "\n",
        "Criação de Pacotes e Modularização\n",
        "Tarefa: Organizar o código criado em um pacote Python. O pacote deve conter os módulos coleta_dados, processamento_dados e escrita_dados. As alunas devem aprender como importar módulos e como organizar o código de forma limpa e reutilizável.\n",
        "\n",
        "Exemplo de importação:\n",
        "\n",
        "\n"
      ],
      "metadata": {
        "id": "NaDmdtwmF4oi"
      }
    },
    {
      "cell_type": "code",
      "source": [
        "from diversidade_empresa.coleta_dados import ler_dados_diversidade\n",
        "from diversidade_empresa.processamento_dados import calcular_porcentagem_genero\n",
        "from diversidade_empresa.escrita_dados import salvar_relatorio"
      ],
      "metadata": {
        "id": "7iL2PfgjGPhJ"
      },
      "execution_count": 8,
      "outputs": []
    },
    {
      "cell_type": "code",
      "source": [
        "import os\n",
        "\n",
        "\n",
        "for root, dirs, files in os.walk('/content/diversidade_empresa'):\n",
        "    level = root.replace('/content/diversidade_empresa', '').count(os.sep)\n",
        "    indent = ' ' * 4 * (level)\n",
        "    print('{}{}/'.format(indent, os.path.basename(root)))\n",
        "    subindent = ' ' * 4 * (level + 1)\n",
        "    for f in files:\n",
        "        print('{}{}'.format(subindent, f))\n"
      ],
      "metadata": {
        "colab": {
          "base_uri": "https://localhost:8080/"
        },
        "id": "KoJWHDWIc_5k",
        "outputId": "41863752-c09d-4fb1-c2e0-79c4801062ad"
      },
      "execution_count": 9,
      "outputs": [
        {
          "output_type": "stream",
          "name": "stdout",
          "text": [
            "diversidade_empresa/\n",
            "    processamento_dados.py\n",
            "    coleta_dados.py\n",
            "    escrita_dados.py\n",
            "    __init__.py\n",
            "    __pycache__/\n",
            "        escrita_dados.cpython-310.pyc\n",
            "        __init__.cpython-310.pyc\n",
            "        processamento_dados.cpython-310.pyc\n",
            "        coleta_dados.cpython-310.pyc\n"
          ]
        }
      ]
    },
    {
      "cell_type": "code",
      "source": [
        "import os\n",
        "\n",
        "\n",
        "os.makedirs('/content/diversidade_empresa', exist_ok=True)\n",
        "\n",
        "\n",
        "with open('/content/diversidade_empresa/__init__.py', 'w') as f:\n",
        "    pass\n",
        "\n",
        "\n",
        "with open('/content/diversidade_empresa/coleta_dados.py', 'w') as f:\n",
        "    f.write('''\n",
        "import csv\n",
        "\n",
        "def ler_dados_diversidade(arquivo_csv):\n",
        "    dados = []\n",
        "    try:\n",
        "        with open(arquivo_csv, mode='r', newline='', encoding='utf-8') as file:\n",
        "            reader = csv.reader(file)\n",
        "            for row in reader:\n",
        "                dados.append(row)\n",
        "        return dados\n",
        "    except FileNotFoundError:\n",
        "        print(f\"Erro: O arquivo {arquivo_csv} não foi encontrado.\")\n",
        "    except csv.Error as e:\n",
        "        print(f\"Erro ao ler o arquivo CSV: {e}\")\n",
        "    return []\n",
        "\n",
        "def verificar_dados(dados):\n",
        "    if dados:\n",
        "        print(f\"Total de linhas carregadas: {len(dados)}\")\n",
        "        if len(dados) > 0:\n",
        "            print(\"Cabeçalhos:\", dados[0])\n",
        "            print(\"Primeiras 5 linhas de dados:\")\n",
        "            for linha in dados[1:6]:  # Exibe apenas as primeiras 5 linhas após o cabeçalho\n",
        "                print(linha)\n",
        "    else:\n",
        "        print(\"Nenhum dado carregado.\")\n",
        "\n",
        "def ler_dados_de_varios_arquivos(arquivos_csv):\n",
        "    dados_arquivos = {}\n",
        "    for arquivo in arquivos_csv:\n",
        "        dados = ler_dados_diversidade(arquivo)\n",
        "        dados_arquivos[arquivo] = dados\n",
        "    return dados_arquivos\n",
        "    ''')\n",
        "\n",
        "\n",
        "with open('/content/diversidade_empresa/processamento_dados.py', 'w') as f:\n",
        "    f.write('''\n",
        "def calcular_porcentagem_genero(dados):\n",
        "    total = len(dados) - 1  # Subtrai 1 para ignorar o cabeçalho\n",
        "    mulheres = sum(1 for linha in dados[1:] if linha[2] == 'Feminino')\n",
        "    return (mulheres / total) * 100 if total > 0 else 0\n",
        "\n",
        "def calcular_porcentagem_deficiencia(dados):\n",
        "    total = len(dados) - 1  # Subtrai 1 para ignorar o cabeçalho\n",
        "    com_deficiencia = sum(1 for linha in dados[1:] if linha[5] == 'Sim')\n",
        "    return (com_deficiencia / total) * 100 if total > 0 else 0\n",
        "\n",
        "def calcular_diversidade_racial(dados):\n",
        "    total = len(dados) - 1  # Subtrai 1 para ignorar o cabeçalho\n",
        "    racas = {}\n",
        "    for linha in dados[1:]:\n",
        "        raca = linha[3]\n",
        "        if raca not in racas:\n",
        "            racas[raca] = 0\n",
        "        racas[raca] += 1\n",
        "    return {raca: (contagem / total) * 100 for raca, contagem in racas.items()} if total > 0 else {}\n",
        "\n",
        "def calcular_media_idade(dados):\n",
        "    idades = [int(linha[4]) for linha in dados[1:] if linha[4].isdigit()]\n",
        "    return sum(idades) / len(idades) if idades else 0\n",
        "    ''')\n",
        "\n",
        "\n",
        "with open('/content/diversidade_empresa/escrita_dados.py', 'w') as f:\n",
        "    f.write('''\n",
        "import csv\n",
        "\n",
        "def salvar_relatorio(arquivo_csv, dados):\n",
        "    \"\"\"\n",
        "    Salva os dados em um arquivo CSV.\n",
        "\n",
        "    Args:\n",
        "        arquivo_csv (str): O caminho para o arquivo CSV.\n",
        "        dados (list): Uma lista de listas contendo os dados a serem salvos.\n",
        "    \"\"\"\n",
        "    with open(arquivo_csv, mode='w', newline='', encoding='utf-8') as file:\n",
        "        writer = csv.writer(file)\n",
        "        writer.writerows(dados)\n",
        "    ''')\n"
      ],
      "metadata": {
        "id": "_CCCXZLSQWgQ"
      },
      "execution_count": 2,
      "outputs": []
    },
    {
      "cell_type": "code",
      "source": [
        "import sys\n",
        "sys.path.append('/content/diversidade_empresa')\n",
        "\n",
        "\n",
        "from diversidade_empresa.coleta_dados import ler_dados_diversidade, verificar_dados\n",
        "from diversidade_empresa.processamento_dados import calcular_porcentagem_genero, calcular_media_idade\n",
        "from diversidade_empresa.escrita_dados import salvar_relatorio\n",
        "\n",
        "\n",
        "\n",
        "dados = ler_dados_diversidade('/content/dados_diversidade.csv')\n",
        "verificar_dados(dados)\n",
        "\n",
        "\n",
        "\n",
        "porcentagem_mulheres = calcular_porcentagem_genero(dados)\n",
        "media_idade = calcular_media_idade(dados)\n",
        "porcentagem_deficiencia = calcular_porcentagem_deficiencia(dados)\n",
        "diversidade_racial = calcular_diversidade_racial(dados)\n",
        "\n",
        "\n",
        "print(f\"Porcentagem de mulheres: {porcentagem_mulheres:.2f}%\")\n",
        "print(f\"Porcentagem de pessoas com deficiência: {porcentagem_deficiencia:.2f}%\")\n",
        "print(\"Diversidade racial:\")\n",
        "for raca, percentual in diversidade_racial.items():\n",
        "    print(f\"  {raca}: {percentual:.2f}%\")\n",
        "print(f\"Média de idade: {media_idade:.2f}\")\n",
        "\n",
        "\n",
        "salvar_relatorio('/content/relatorio.csv', dados)\n"
      ],
      "metadata": {
        "colab": {
          "base_uri": "https://localhost:8080/"
        },
        "id": "TbEtl-KWVJqU",
        "outputId": "313f1c3b-8ca0-4a64-c24d-998b2d0cecb4"
      },
      "execution_count": 10,
      "outputs": [
        {
          "output_type": "stream",
          "name": "stdout",
          "text": [
            "Total de linhas carregadas: 11\n",
            "Cabeçalhos: ['ID', 'Nome', 'Genero', 'Raca', 'Idade', 'Deficiencia']\n",
            "Primeiras 5 linhas de dados:\n",
            "['1', 'Maria Silva', 'Feminino', 'Negra', '29', 'Não']\n",
            "['2', 'João Souza', 'Masculino', 'Branco', '35', 'Sim']\n",
            "['3', 'Ana Costa', 'Feminino', 'Parda', '41', 'Não']\n",
            "['4', 'Carlos Pereira', 'Masculino', 'Indígena', '25', 'Não']\n",
            "['5', 'Renata Lima', 'Feminino', 'Amarela', '30', 'Sim']\n",
            "Porcentagem de mulheres: 50.00%\n",
            "Porcentagem de pessoas com deficiência: 40.00%\n",
            "Diversidade racial:\n",
            "  Negra: 10.00%\n",
            "  Branco: 20.00%\n",
            "  Parda: 10.00%\n",
            "  Indígena: 20.00%\n",
            "  Amarela: 10.00%\n",
            "  Negro: 10.00%\n",
            "  Branca: 10.00%\n",
            "  Pardo: 10.00%\n",
            "Média de idade: 35.20\n"
          ]
        }
      ]
    },
    {
      "cell_type": "code",
      "source": [
        "!pip install pandas\n"
      ],
      "metadata": {
        "colab": {
          "base_uri": "https://localhost:8080/"
        },
        "id": "GL8GfGTDbTkV",
        "outputId": "ba12ee11-4aca-4d70-84c6-0b51863cdc62",
        "collapsed": true
      },
      "execution_count": null,
      "outputs": [
        {
          "output_type": "stream",
          "name": "stdout",
          "text": [
            "Requirement already satisfied: pandas in /usr/local/lib/python3.10/dist-packages (2.1.4)\n",
            "Requirement already satisfied: numpy<2,>=1.22.4 in /usr/local/lib/python3.10/dist-packages (from pandas) (1.26.4)\n",
            "Requirement already satisfied: python-dateutil>=2.8.2 in /usr/local/lib/python3.10/dist-packages (from pandas) (2.8.2)\n",
            "Requirement already satisfied: pytz>=2020.1 in /usr/local/lib/python3.10/dist-packages (from pandas) (2024.2)\n",
            "Requirement already satisfied: tzdata>=2022.1 in /usr/local/lib/python3.10/dist-packages (from pandas) (2024.1)\n",
            "Requirement already satisfied: six>=1.5 in /usr/local/lib/python3.10/dist-packages (from python-dateutil>=2.8.2->pandas) (1.16.0)\n"
          ]
        }
      ]
    },
    {
      "cell_type": "code",
      "source": [
        "import sys\n",
        "import os\n",
        "sys.path.append(os.path.abspath('/content/diversidade_empresa'))\n"
      ],
      "metadata": {
        "id": "KNzC3SQfJGUj"
      },
      "execution_count": null,
      "outputs": []
    },
    {
      "cell_type": "code",
      "source": [
        "import pandas as pd\n",
        "\n",
        "df = pd.read_csv('dados_diversidade.csv')\n",
        "df.head()\n"
      ],
      "metadata": {
        "colab": {
          "base_uri": "https://localhost:8080/",
          "height": 206
        },
        "id": "9GS0VNyJhCve",
        "outputId": "02e67133-f7d1-4984-a339-f6b033dddcbe"
      },
      "execution_count": null,
      "outputs": [
        {
          "output_type": "execute_result",
          "data": {
            "text/plain": [
              "   ID            Nome     Genero      Raca  Idade Deficiencia\n",
              "0   1     Maria Silva   Feminino     Negra     29         Não\n",
              "1   2      João Souza  Masculino    Branco     35         Sim\n",
              "2   3       Ana Costa   Feminino     Parda     41         Não\n",
              "3   4  Carlos Pereira  Masculino  Indígena     25         Não\n",
              "4   5     Renata Lima   Feminino   Amarela     30         Sim"
            ],
            "text/html": [
              "\n",
              "  <div id=\"df-e2e19a51-7585-4e76-a4aa-009b78e53d1b\" class=\"colab-df-container\">\n",
              "    <div>\n",
              "<style scoped>\n",
              "    .dataframe tbody tr th:only-of-type {\n",
              "        vertical-align: middle;\n",
              "    }\n",
              "\n",
              "    .dataframe tbody tr th {\n",
              "        vertical-align: top;\n",
              "    }\n",
              "\n",
              "    .dataframe thead th {\n",
              "        text-align: right;\n",
              "    }\n",
              "</style>\n",
              "<table border=\"1\" class=\"dataframe\">\n",
              "  <thead>\n",
              "    <tr style=\"text-align: right;\">\n",
              "      <th></th>\n",
              "      <th>ID</th>\n",
              "      <th>Nome</th>\n",
              "      <th>Genero</th>\n",
              "      <th>Raca</th>\n",
              "      <th>Idade</th>\n",
              "      <th>Deficiencia</th>\n",
              "    </tr>\n",
              "  </thead>\n",
              "  <tbody>\n",
              "    <tr>\n",
              "      <th>0</th>\n",
              "      <td>1</td>\n",
              "      <td>Maria Silva</td>\n",
              "      <td>Feminino</td>\n",
              "      <td>Negra</td>\n",
              "      <td>29</td>\n",
              "      <td>Não</td>\n",
              "    </tr>\n",
              "    <tr>\n",
              "      <th>1</th>\n",
              "      <td>2</td>\n",
              "      <td>João Souza</td>\n",
              "      <td>Masculino</td>\n",
              "      <td>Branco</td>\n",
              "      <td>35</td>\n",
              "      <td>Sim</td>\n",
              "    </tr>\n",
              "    <tr>\n",
              "      <th>2</th>\n",
              "      <td>3</td>\n",
              "      <td>Ana Costa</td>\n",
              "      <td>Feminino</td>\n",
              "      <td>Parda</td>\n",
              "      <td>41</td>\n",
              "      <td>Não</td>\n",
              "    </tr>\n",
              "    <tr>\n",
              "      <th>3</th>\n",
              "      <td>4</td>\n",
              "      <td>Carlos Pereira</td>\n",
              "      <td>Masculino</td>\n",
              "      <td>Indígena</td>\n",
              "      <td>25</td>\n",
              "      <td>Não</td>\n",
              "    </tr>\n",
              "    <tr>\n",
              "      <th>4</th>\n",
              "      <td>5</td>\n",
              "      <td>Renata Lima</td>\n",
              "      <td>Feminino</td>\n",
              "      <td>Amarela</td>\n",
              "      <td>30</td>\n",
              "      <td>Sim</td>\n",
              "    </tr>\n",
              "  </tbody>\n",
              "</table>\n",
              "</div>\n",
              "    <div class=\"colab-df-buttons\">\n",
              "\n",
              "  <div class=\"colab-df-container\">\n",
              "    <button class=\"colab-df-convert\" onclick=\"convertToInteractive('df-e2e19a51-7585-4e76-a4aa-009b78e53d1b')\"\n",
              "            title=\"Convert this dataframe to an interactive table.\"\n",
              "            style=\"display:none;\">\n",
              "\n",
              "  <svg xmlns=\"http://www.w3.org/2000/svg\" height=\"24px\" viewBox=\"0 -960 960 960\">\n",
              "    <path d=\"M120-120v-720h720v720H120Zm60-500h600v-160H180v160Zm220 220h160v-160H400v160Zm0 220h160v-160H400v160ZM180-400h160v-160H180v160Zm440 0h160v-160H620v160ZM180-180h160v-160H180v160Zm440 0h160v-160H620v160Z\"/>\n",
              "  </svg>\n",
              "    </button>\n",
              "\n",
              "  <style>\n",
              "    .colab-df-container {\n",
              "      display:flex;\n",
              "      gap: 12px;\n",
              "    }\n",
              "\n",
              "    .colab-df-convert {\n",
              "      background-color: #E8F0FE;\n",
              "      border: none;\n",
              "      border-radius: 50%;\n",
              "      cursor: pointer;\n",
              "      display: none;\n",
              "      fill: #1967D2;\n",
              "      height: 32px;\n",
              "      padding: 0 0 0 0;\n",
              "      width: 32px;\n",
              "    }\n",
              "\n",
              "    .colab-df-convert:hover {\n",
              "      background-color: #E2EBFA;\n",
              "      box-shadow: 0px 1px 2px rgba(60, 64, 67, 0.3), 0px 1px 3px 1px rgba(60, 64, 67, 0.15);\n",
              "      fill: #174EA6;\n",
              "    }\n",
              "\n",
              "    .colab-df-buttons div {\n",
              "      margin-bottom: 4px;\n",
              "    }\n",
              "\n",
              "    [theme=dark] .colab-df-convert {\n",
              "      background-color: #3B4455;\n",
              "      fill: #D2E3FC;\n",
              "    }\n",
              "\n",
              "    [theme=dark] .colab-df-convert:hover {\n",
              "      background-color: #434B5C;\n",
              "      box-shadow: 0px 1px 3px 1px rgba(0, 0, 0, 0.15);\n",
              "      filter: drop-shadow(0px 1px 2px rgba(0, 0, 0, 0.3));\n",
              "      fill: #FFFFFF;\n",
              "    }\n",
              "  </style>\n",
              "\n",
              "    <script>\n",
              "      const buttonEl =\n",
              "        document.querySelector('#df-e2e19a51-7585-4e76-a4aa-009b78e53d1b button.colab-df-convert');\n",
              "      buttonEl.style.display =\n",
              "        google.colab.kernel.accessAllowed ? 'block' : 'none';\n",
              "\n",
              "      async function convertToInteractive(key) {\n",
              "        const element = document.querySelector('#df-e2e19a51-7585-4e76-a4aa-009b78e53d1b');\n",
              "        const dataTable =\n",
              "          await google.colab.kernel.invokeFunction('convertToInteractive',\n",
              "                                                    [key], {});\n",
              "        if (!dataTable) return;\n",
              "\n",
              "        const docLinkHtml = 'Like what you see? Visit the ' +\n",
              "          '<a target=\"_blank\" href=https://colab.research.google.com/notebooks/data_table.ipynb>data table notebook</a>'\n",
              "          + ' to learn more about interactive tables.';\n",
              "        element.innerHTML = '';\n",
              "        dataTable['output_type'] = 'display_data';\n",
              "        await google.colab.output.renderOutput(dataTable, element);\n",
              "        const docLink = document.createElement('div');\n",
              "        docLink.innerHTML = docLinkHtml;\n",
              "        element.appendChild(docLink);\n",
              "      }\n",
              "    </script>\n",
              "  </div>\n",
              "\n",
              "\n",
              "<div id=\"df-827c0a76-b376-4806-b2ad-6015f42ccc88\">\n",
              "  <button class=\"colab-df-quickchart\" onclick=\"quickchart('df-827c0a76-b376-4806-b2ad-6015f42ccc88')\"\n",
              "            title=\"Suggest charts\"\n",
              "            style=\"display:none;\">\n",
              "\n",
              "<svg xmlns=\"http://www.w3.org/2000/svg\" height=\"24px\"viewBox=\"0 0 24 24\"\n",
              "     width=\"24px\">\n",
              "    <g>\n",
              "        <path d=\"M19 3H5c-1.1 0-2 .9-2 2v14c0 1.1.9 2 2 2h14c1.1 0 2-.9 2-2V5c0-1.1-.9-2-2-2zM9 17H7v-7h2v7zm4 0h-2V7h2v10zm4 0h-2v-4h2v4z\"/>\n",
              "    </g>\n",
              "</svg>\n",
              "  </button>\n",
              "\n",
              "<style>\n",
              "  .colab-df-quickchart {\n",
              "      --bg-color: #E8F0FE;\n",
              "      --fill-color: #1967D2;\n",
              "      --hover-bg-color: #E2EBFA;\n",
              "      --hover-fill-color: #174EA6;\n",
              "      --disabled-fill-color: #AAA;\n",
              "      --disabled-bg-color: #DDD;\n",
              "  }\n",
              "\n",
              "  [theme=dark] .colab-df-quickchart {\n",
              "      --bg-color: #3B4455;\n",
              "      --fill-color: #D2E3FC;\n",
              "      --hover-bg-color: #434B5C;\n",
              "      --hover-fill-color: #FFFFFF;\n",
              "      --disabled-bg-color: #3B4455;\n",
              "      --disabled-fill-color: #666;\n",
              "  }\n",
              "\n",
              "  .colab-df-quickchart {\n",
              "    background-color: var(--bg-color);\n",
              "    border: none;\n",
              "    border-radius: 50%;\n",
              "    cursor: pointer;\n",
              "    display: none;\n",
              "    fill: var(--fill-color);\n",
              "    height: 32px;\n",
              "    padding: 0;\n",
              "    width: 32px;\n",
              "  }\n",
              "\n",
              "  .colab-df-quickchart:hover {\n",
              "    background-color: var(--hover-bg-color);\n",
              "    box-shadow: 0 1px 2px rgba(60, 64, 67, 0.3), 0 1px 3px 1px rgba(60, 64, 67, 0.15);\n",
              "    fill: var(--button-hover-fill-color);\n",
              "  }\n",
              "\n",
              "  .colab-df-quickchart-complete:disabled,\n",
              "  .colab-df-quickchart-complete:disabled:hover {\n",
              "    background-color: var(--disabled-bg-color);\n",
              "    fill: var(--disabled-fill-color);\n",
              "    box-shadow: none;\n",
              "  }\n",
              "\n",
              "  .colab-df-spinner {\n",
              "    border: 2px solid var(--fill-color);\n",
              "    border-color: transparent;\n",
              "    border-bottom-color: var(--fill-color);\n",
              "    animation:\n",
              "      spin 1s steps(1) infinite;\n",
              "  }\n",
              "\n",
              "  @keyframes spin {\n",
              "    0% {\n",
              "      border-color: transparent;\n",
              "      border-bottom-color: var(--fill-color);\n",
              "      border-left-color: var(--fill-color);\n",
              "    }\n",
              "    20% {\n",
              "      border-color: transparent;\n",
              "      border-left-color: var(--fill-color);\n",
              "      border-top-color: var(--fill-color);\n",
              "    }\n",
              "    30% {\n",
              "      border-color: transparent;\n",
              "      border-left-color: var(--fill-color);\n",
              "      border-top-color: var(--fill-color);\n",
              "      border-right-color: var(--fill-color);\n",
              "    }\n",
              "    40% {\n",
              "      border-color: transparent;\n",
              "      border-right-color: var(--fill-color);\n",
              "      border-top-color: var(--fill-color);\n",
              "    }\n",
              "    60% {\n",
              "      border-color: transparent;\n",
              "      border-right-color: var(--fill-color);\n",
              "    }\n",
              "    80% {\n",
              "      border-color: transparent;\n",
              "      border-right-color: var(--fill-color);\n",
              "      border-bottom-color: var(--fill-color);\n",
              "    }\n",
              "    90% {\n",
              "      border-color: transparent;\n",
              "      border-bottom-color: var(--fill-color);\n",
              "    }\n",
              "  }\n",
              "</style>\n",
              "\n",
              "  <script>\n",
              "    async function quickchart(key) {\n",
              "      const quickchartButtonEl =\n",
              "        document.querySelector('#' + key + ' button');\n",
              "      quickchartButtonEl.disabled = true;  // To prevent multiple clicks.\n",
              "      quickchartButtonEl.classList.add('colab-df-spinner');\n",
              "      try {\n",
              "        const charts = await google.colab.kernel.invokeFunction(\n",
              "            'suggestCharts', [key], {});\n",
              "      } catch (error) {\n",
              "        console.error('Error during call to suggestCharts:', error);\n",
              "      }\n",
              "      quickchartButtonEl.classList.remove('colab-df-spinner');\n",
              "      quickchartButtonEl.classList.add('colab-df-quickchart-complete');\n",
              "    }\n",
              "    (() => {\n",
              "      let quickchartButtonEl =\n",
              "        document.querySelector('#df-827c0a76-b376-4806-b2ad-6015f42ccc88 button');\n",
              "      quickchartButtonEl.style.display =\n",
              "        google.colab.kernel.accessAllowed ? 'block' : 'none';\n",
              "    })();\n",
              "  </script>\n",
              "</div>\n",
              "\n",
              "    </div>\n",
              "  </div>\n"
            ],
            "application/vnd.google.colaboratory.intrinsic+json": {
              "type": "dataframe",
              "variable_name": "df",
              "summary": "{\n  \"name\": \"df\",\n  \"rows\": 10,\n  \"fields\": [\n    {\n      \"column\": \"ID\",\n      \"properties\": {\n        \"dtype\": \"number\",\n        \"std\": 3,\n        \"min\": 1,\n        \"max\": 10,\n        \"num_unique_values\": 10,\n        \"samples\": [\n          9,\n          2,\n          6\n        ],\n        \"semantic_type\": \"\",\n        \"description\": \"\"\n      }\n    },\n    {\n      \"column\": \"Nome\",\n      \"properties\": {\n        \"dtype\": \"string\",\n        \"num_unique_values\": 10,\n        \"samples\": [\n          \"Sandra Ferreira\",\n          \"Jo\\u00e3o Souza\",\n          \"Paulo Oliveira\"\n        ],\n        \"semantic_type\": \"\",\n        \"description\": \"\"\n      }\n    },\n    {\n      \"column\": \"Genero\",\n      \"properties\": {\n        \"dtype\": \"category\",\n        \"num_unique_values\": 2,\n        \"samples\": [\n          \"Masculino\",\n          \"Feminino\"\n        ],\n        \"semantic_type\": \"\",\n        \"description\": \"\"\n      }\n    },\n    {\n      \"column\": \"Raca\",\n      \"properties\": {\n        \"dtype\": \"string\",\n        \"num_unique_values\": 8,\n        \"samples\": [\n          \"Branco\",\n          \"Negro\"\n        ],\n        \"semantic_type\": \"\",\n        \"description\": \"\"\n      }\n    },\n    {\n      \"column\": \"Idade\",\n      \"properties\": {\n        \"dtype\": \"number\",\n        \"std\": 8,\n        \"min\": 25,\n        \"max\": 50,\n        \"num_unique_values\": 10,\n        \"samples\": [\n          27,\n          35\n        ],\n        \"semantic_type\": \"\",\n        \"description\": \"\"\n      }\n    },\n    {\n      \"column\": \"Deficiencia\",\n      \"properties\": {\n        \"dtype\": \"category\",\n        \"num_unique_values\": 2,\n        \"samples\": [\n          \"Sim\",\n          \"N\\u00e3o\"\n        ],\n        \"semantic_type\": \"\",\n        \"description\": \"\"\n      }\n    }\n  ]\n}"
            }
          },
          "metadata": {},
          "execution_count": 20
        }
      ]
    },
    {
      "cell_type": "code",
      "source": [
        "from google.colab import drive\n",
        "drive.mount('/content/drive')"
      ],
      "metadata": {
        "id": "pGniWxASFCEV"
      },
      "execution_count": null,
      "outputs": []
    },
    {
      "source": [
        "from google.colab import sheets\n",
        "sheet = sheets.InteractiveSheet(df=df)"
      ],
      "cell_type": "code",
      "execution_count": null,
      "outputs": [
        {
          "output_type": "stream",
          "name": "stdout",
          "text": [
            "https://docs.google.com/spreadsheets/d/1rkz-IvqyRU6SJROsJvBCjlxyvEsPzIAR5FyqR2aSH3A#gid=0\n"
          ]
        },
        {
          "output_type": "stream",
          "name": "stderr",
          "text": [
            "/usr/local/lib/python3.10/dist-packages/google/colab/sheets.py:31: FutureWarning: DataFrame.applymap has been deprecated. Use DataFrame.map instead.\n",
            "  return frame.applymap(_clean_val).replace({np.nan: None})\n"
          ]
        },
        {
          "output_type": "display_data",
          "data": {
            "text/plain": [
              "<IPython.lib.display.IFrame at 0x79cd6c2edba0>"
            ],
            "text/html": [
              "\n",
              "        <iframe\n",
              "            width=\"100%\"\n",
              "            height=\"600\"\n",
              "            src=\"https://docs.google.com/spreadsheets/d/1rkz-IvqyRU6SJROsJvBCjlxyvEsPzIAR5FyqR2aSH3A#gid=0/edit?rm=embedded?usp=sharing?widget=true&amp;headers=false\"\n",
              "            frameborder=\"0\"\n",
              "            allowfullscreen\n",
              "            \n",
              "        ></iframe>\n",
              "        "
            ]
          },
          "metadata": {}
        }
      ],
      "metadata": {
        "cellView": "form",
        "colab": {
          "base_uri": "https://localhost:8080/",
          "height": 694
        },
        "id": "RB35HwupmeOf",
        "outputId": "befe7791-36b2-47ff-a1b2-c101d0662a16"
      }
    }
  ]
}